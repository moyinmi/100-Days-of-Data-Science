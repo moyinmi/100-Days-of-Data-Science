{
  "nbformat": 4,
  "nbformat_minor": 0,
  "metadata": {
    "colab": {
      "name": "Project 1.ipynb",
      "provenance": [],
      "collapsed_sections": [],
      "include_colab_link": true
    },
    "kernelspec": {
      "name": "python3",
      "display_name": "Python 3"
    },
    "language_info": {
      "name": "python"
    }
  },
  "cells": [
    {
      "cell_type": "markdown",
      "metadata": {
        "id": "view-in-github",
        "colab_type": "text"
      },
      "source": [
        "<a href=\"https://colab.research.google.com/github/moyinmi/100-Days-of-Data-Science/blob/master/Projects/Project_1.ipynb\" target=\"_parent\"><img src=\"https://colab.research.google.com/assets/colab-badge.svg\" alt=\"Open In Colab\"/></a>"
      ]
    },
    {
      "cell_type": "markdown",
      "source": [
        "# Project 1\n",
        "\n",
        "## Reg_no: DS056\n"
      ],
      "metadata": {
        "id": "nGO3Ur9iAIm0"
      }
    },
    {
      "cell_type": "markdown",
      "source": [
        "It's important that you fill in your registration number for proper documentation."
      ],
      "metadata": {
        "id": "CSVqJgaZA3UI"
      }
    },
    {
      "cell_type": "markdown",
      "source": [
        "In this project you will be creating your own data set from scratch.\n",
        "\n",
        "Follow the instructions below"
      ],
      "metadata": {
        "id": "xlLISCys_Q7f"
      }
    },
    {
      "cell_type": "markdown",
      "source": [
        "## Import numpy and pandas"
      ],
      "metadata": {
        "id": "zmU6_PD5BTIR"
      }
    },
    {
      "cell_type": "code",
      "source": [
        "# Complete this\n",
        "import numpy as np\n",
        "import pandas as pd"
      ],
      "metadata": {
        "id": "hWbGgV5rBYLR"
      },
      "execution_count": 1,
      "outputs": []
    },
    {
      "cell_type": "markdown",
      "source": [
        "### Create  a dictionary (named student) of 10 students with name, relationship status, age and department columns"
      ],
      "metadata": {
        "id": "BcudwDK4-kpd"
      }
    },
    {
      "cell_type": "code",
      "source": [
        "student = {'name':['Moyin', 'Damola', 'Micheal', 'Samuel', 'Anjola', 'Angel', 'Kelvin', 'Praise', 'Seun', 'Ore'],\n",
        "           'relationship':['single', 'married', 'married','married','married','married', 'single','single','single','single'],\n",
        "           'age':[20, 23, 24, 25, 28, 30, 40, 15, 17, 18],\n",
        "           'department':['French', 'English', 'Law','Law', 'Law', 'German', 'Zoology', 'Botany', 'Geology', 'French']}\n",
        "\n",
        "# 10 values in each of the square brackets"
      ],
      "metadata": {
        "id": "XxEsa7gNBphZ"
      },
      "execution_count": 3,
      "outputs": []
    },
    {
      "cell_type": "markdown",
      "source": [
        "### Add cgpa to the dictionary "
      ],
      "metadata": {
        "id": "HX23D_Sb9rRT"
      }
    },
    {
      "cell_type": "code",
      "source": [
        "student['cgpa'] = [4.6, 4.5, 3.5, 3.0, 4.0, 5.0, 2.1, 2.9, 3.9, 1.8] # 10 values for the students' cgpa"
      ],
      "metadata": {
        "id": "TOtLTr73Atj3"
      },
      "execution_count": 4,
      "outputs": []
    },
    {
      "cell_type": "markdown",
      "source": [
        "### Remove relationship status from the dictionary"
      ],
      "metadata": {
        "id": "MEWiJ5s3-vYN"
      }
    },
    {
      "cell_type": "code",
      "source": [
        "student.pop('relationship')  # fill in the key  you want to remove"
      ],
      "metadata": {
        "id": "J8r6HT8oB4as",
        "colab": {
          "base_uri": "https://localhost:8080/"
        },
        "outputId": "18ad5167-b935-466f-8570-a571c306cff0"
      },
      "execution_count": 6,
      "outputs": [
        {
          "output_type": "execute_result",
          "data": {
            "text/plain": [
              "['single',\n",
              " 'married',\n",
              " 'married',\n",
              " 'married',\n",
              " 'married',\n",
              " 'married',\n",
              " 'single',\n",
              " 'single',\n",
              " 'single',\n",
              " 'single']"
            ]
          },
          "metadata": {},
          "execution_count": 6
        }
      ]
    },
    {
      "cell_type": "markdown",
      "source": [
        "## Convert the dictionary to a dataframe(df)"
      ],
      "metadata": {
        "id": "SVxpIt3o-yTv"
      }
    },
    {
      "cell_type": "code",
      "source": [
        "df = pd.DataFrame(student)    # complete this"
      ],
      "metadata": {
        "id": "Zhu_W-axCPS1"
      },
      "execution_count": 7,
      "outputs": []
    },
    {
      "cell_type": "markdown",
      "source": [
        "## Add admission_date (year, month and day)and gender columns to the dataframe\n"
      ],
      "metadata": {
        "id": "TMnxb-nk-9Vy"
      }
    },
    {
      "cell_type": "code",
      "source": [
        "df['admission_date'] =  ['2022-04-14 12:01', '2021-05-12 12:02', '2020-01-02 12:03', '2022-12-11 12:04', '2022-11-11 12:05', '2022-02-11 12:06', '2022-10-19 12:07', '2022-06-21 12:08', '2022-08-01 12:09', '2022-08-07 12:10'] #complete the code\n",
        "df['gender'] = ['Female', 'Male', 'Male', 'Female', 'Male', 'Female', 'Female', 'Female', 'Male', 'Male']\n"
      ],
      "metadata": {
        "id": "Xo3wLmlpCWYk"
      },
      "execution_count": 18,
      "outputs": []
    },
    {
      "cell_type": "markdown",
      "source": [
        "# Check the dataframe\n",
        "\n",
        "\n"
      ],
      "metadata": {
        "id": "wkqvFcAL_BHF"
      }
    },
    {
      "cell_type": "code",
      "source": [
        "df"
      ],
      "metadata": {
        "id": "Q8OluagoCmJk",
        "colab": {
          "base_uri": "https://localhost:8080/",
          "height": 363
        },
        "outputId": "0a018362-17ae-499d-c3af-81c18fd8e560"
      },
      "execution_count": 19,
      "outputs": [
        {
          "output_type": "execute_result",
          "data": {
            "text/plain": [
              "      name  age department  cgpa    admission_date  gender\n",
              "0    Moyin   20     French   4.6  2022-04-14 12:01  Female\n",
              "1   Damola   23    English   4.5  2021-05-12 12:02    Male\n",
              "2  Micheal   24        Law   3.5  2020-01-02 12:03    Male\n",
              "3   Samuel   25        Law   3.0  2022-12-11 12:04  Female\n",
              "4   Anjola   28        Law   4.0  2022-11-11 12:05    Male\n",
              "5    Angel   30     German   5.0  2022-02-11 12:06  Female\n",
              "6   Kelvin   40    Zoology   2.1  2022-10-19 12:07  Female\n",
              "7   Praise   15     Botany   2.9  2022-06-21 12:08  Female\n",
              "8     Seun   17    Geology   3.9  2022-08-01 12:09    Male\n",
              "9      Ore   18     French   1.8  2022-08-07 12:10    Male"
            ],
            "text/html": [
              "\n",
              "  <div id=\"df-37da7ac6-ad11-4f19-8aae-d76c9cc3698f\">\n",
              "    <div class=\"colab-df-container\">\n",
              "      <div>\n",
              "<style scoped>\n",
              "    .dataframe tbody tr th:only-of-type {\n",
              "        vertical-align: middle;\n",
              "    }\n",
              "\n",
              "    .dataframe tbody tr th {\n",
              "        vertical-align: top;\n",
              "    }\n",
              "\n",
              "    .dataframe thead th {\n",
              "        text-align: right;\n",
              "    }\n",
              "</style>\n",
              "<table border=\"1\" class=\"dataframe\">\n",
              "  <thead>\n",
              "    <tr style=\"text-align: right;\">\n",
              "      <th></th>\n",
              "      <th>name</th>\n",
              "      <th>age</th>\n",
              "      <th>department</th>\n",
              "      <th>cgpa</th>\n",
              "      <th>admission_date</th>\n",
              "      <th>gender</th>\n",
              "    </tr>\n",
              "  </thead>\n",
              "  <tbody>\n",
              "    <tr>\n",
              "      <th>0</th>\n",
              "      <td>Moyin</td>\n",
              "      <td>20</td>\n",
              "      <td>French</td>\n",
              "      <td>4.6</td>\n",
              "      <td>2022-04-14 12:01</td>\n",
              "      <td>Female</td>\n",
              "    </tr>\n",
              "    <tr>\n",
              "      <th>1</th>\n",
              "      <td>Damola</td>\n",
              "      <td>23</td>\n",
              "      <td>English</td>\n",
              "      <td>4.5</td>\n",
              "      <td>2021-05-12 12:02</td>\n",
              "      <td>Male</td>\n",
              "    </tr>\n",
              "    <tr>\n",
              "      <th>2</th>\n",
              "      <td>Micheal</td>\n",
              "      <td>24</td>\n",
              "      <td>Law</td>\n",
              "      <td>3.5</td>\n",
              "      <td>2020-01-02 12:03</td>\n",
              "      <td>Male</td>\n",
              "    </tr>\n",
              "    <tr>\n",
              "      <th>3</th>\n",
              "      <td>Samuel</td>\n",
              "      <td>25</td>\n",
              "      <td>Law</td>\n",
              "      <td>3.0</td>\n",
              "      <td>2022-12-11 12:04</td>\n",
              "      <td>Female</td>\n",
              "    </tr>\n",
              "    <tr>\n",
              "      <th>4</th>\n",
              "      <td>Anjola</td>\n",
              "      <td>28</td>\n",
              "      <td>Law</td>\n",
              "      <td>4.0</td>\n",
              "      <td>2022-11-11 12:05</td>\n",
              "      <td>Male</td>\n",
              "    </tr>\n",
              "    <tr>\n",
              "      <th>5</th>\n",
              "      <td>Angel</td>\n",
              "      <td>30</td>\n",
              "      <td>German</td>\n",
              "      <td>5.0</td>\n",
              "      <td>2022-02-11 12:06</td>\n",
              "      <td>Female</td>\n",
              "    </tr>\n",
              "    <tr>\n",
              "      <th>6</th>\n",
              "      <td>Kelvin</td>\n",
              "      <td>40</td>\n",
              "      <td>Zoology</td>\n",
              "      <td>2.1</td>\n",
              "      <td>2022-10-19 12:07</td>\n",
              "      <td>Female</td>\n",
              "    </tr>\n",
              "    <tr>\n",
              "      <th>7</th>\n",
              "      <td>Praise</td>\n",
              "      <td>15</td>\n",
              "      <td>Botany</td>\n",
              "      <td>2.9</td>\n",
              "      <td>2022-06-21 12:08</td>\n",
              "      <td>Female</td>\n",
              "    </tr>\n",
              "    <tr>\n",
              "      <th>8</th>\n",
              "      <td>Seun</td>\n",
              "      <td>17</td>\n",
              "      <td>Geology</td>\n",
              "      <td>3.9</td>\n",
              "      <td>2022-08-01 12:09</td>\n",
              "      <td>Male</td>\n",
              "    </tr>\n",
              "    <tr>\n",
              "      <th>9</th>\n",
              "      <td>Ore</td>\n",
              "      <td>18</td>\n",
              "      <td>French</td>\n",
              "      <td>1.8</td>\n",
              "      <td>2022-08-07 12:10</td>\n",
              "      <td>Male</td>\n",
              "    </tr>\n",
              "  </tbody>\n",
              "</table>\n",
              "</div>\n",
              "      <button class=\"colab-df-convert\" onclick=\"convertToInteractive('df-37da7ac6-ad11-4f19-8aae-d76c9cc3698f')\"\n",
              "              title=\"Convert this dataframe to an interactive table.\"\n",
              "              style=\"display:none;\">\n",
              "        \n",
              "  <svg xmlns=\"http://www.w3.org/2000/svg\" height=\"24px\"viewBox=\"0 0 24 24\"\n",
              "       width=\"24px\">\n",
              "    <path d=\"M0 0h24v24H0V0z\" fill=\"none\"/>\n",
              "    <path d=\"M18.56 5.44l.94 2.06.94-2.06 2.06-.94-2.06-.94-.94-2.06-.94 2.06-2.06.94zm-11 1L8.5 8.5l.94-2.06 2.06-.94-2.06-.94L8.5 2.5l-.94 2.06-2.06.94zm10 10l.94 2.06.94-2.06 2.06-.94-2.06-.94-.94-2.06-.94 2.06-2.06.94z\"/><path d=\"M17.41 7.96l-1.37-1.37c-.4-.4-.92-.59-1.43-.59-.52 0-1.04.2-1.43.59L10.3 9.45l-7.72 7.72c-.78.78-.78 2.05 0 2.83L4 21.41c.39.39.9.59 1.41.59.51 0 1.02-.2 1.41-.59l7.78-7.78 2.81-2.81c.8-.78.8-2.07 0-2.86zM5.41 20L4 18.59l7.72-7.72 1.47 1.35L5.41 20z\"/>\n",
              "  </svg>\n",
              "      </button>\n",
              "      \n",
              "  <style>\n",
              "    .colab-df-container {\n",
              "      display:flex;\n",
              "      flex-wrap:wrap;\n",
              "      gap: 12px;\n",
              "    }\n",
              "\n",
              "    .colab-df-convert {\n",
              "      background-color: #E8F0FE;\n",
              "      border: none;\n",
              "      border-radius: 50%;\n",
              "      cursor: pointer;\n",
              "      display: none;\n",
              "      fill: #1967D2;\n",
              "      height: 32px;\n",
              "      padding: 0 0 0 0;\n",
              "      width: 32px;\n",
              "    }\n",
              "\n",
              "    .colab-df-convert:hover {\n",
              "      background-color: #E2EBFA;\n",
              "      box-shadow: 0px 1px 2px rgba(60, 64, 67, 0.3), 0px 1px 3px 1px rgba(60, 64, 67, 0.15);\n",
              "      fill: #174EA6;\n",
              "    }\n",
              "\n",
              "    [theme=dark] .colab-df-convert {\n",
              "      background-color: #3B4455;\n",
              "      fill: #D2E3FC;\n",
              "    }\n",
              "\n",
              "    [theme=dark] .colab-df-convert:hover {\n",
              "      background-color: #434B5C;\n",
              "      box-shadow: 0px 1px 3px 1px rgba(0, 0, 0, 0.15);\n",
              "      filter: drop-shadow(0px 1px 2px rgba(0, 0, 0, 0.3));\n",
              "      fill: #FFFFFF;\n",
              "    }\n",
              "  </style>\n",
              "\n",
              "      <script>\n",
              "        const buttonEl =\n",
              "          document.querySelector('#df-37da7ac6-ad11-4f19-8aae-d76c9cc3698f button.colab-df-convert');\n",
              "        buttonEl.style.display =\n",
              "          google.colab.kernel.accessAllowed ? 'block' : 'none';\n",
              "\n",
              "        async function convertToInteractive(key) {\n",
              "          const element = document.querySelector('#df-37da7ac6-ad11-4f19-8aae-d76c9cc3698f');\n",
              "          const dataTable =\n",
              "            await google.colab.kernel.invokeFunction('convertToInteractive',\n",
              "                                                     [key], {});\n",
              "          if (!dataTable) return;\n",
              "\n",
              "          const docLinkHtml = 'Like what you see? Visit the ' +\n",
              "            '<a target=\"_blank\" href=https://colab.research.google.com/notebooks/data_table.ipynb>data table notebook</a>'\n",
              "            + ' to learn more about interactive tables.';\n",
              "          element.innerHTML = '';\n",
              "          dataTable['output_type'] = 'display_data';\n",
              "          await google.colab.output.renderOutput(dataTable, element);\n",
              "          const docLink = document.createElement('div');\n",
              "          docLink.innerHTML = docLinkHtml;\n",
              "          element.appendChild(docLink);\n",
              "        }\n",
              "      </script>\n",
              "    </div>\n",
              "  </div>\n",
              "  "
            ]
          },
          "metadata": {},
          "execution_count": 19
        }
      ]
    },
    {
      "cell_type": "markdown",
      "source": [
        "### Create the same dataframe (df2) with all the columns (name,  age, department, admission_date and gender) from a list instead of a dictionary.\n"
      ],
      "metadata": {
        "id": "wiMjl8Dx_Fb7"
      }
    },
    {
      "cell_type": "code",
      "source": [
        "## Check the dataframe\n",
        "name = ['Moyin', 'Damola', 'Micheal', 'Samuel', 'Anjola', 'Angel', 'Kelvin', 'Praise', 'Seun', 'Ore']\n",
        "age= [20, 23, 24, 25, 28, 30, 40, 15, 17, 18]\n",
        "department= ['French', 'English', 'Law','Law', 'Law', 'German', 'Zoology', 'Botany', 'Geology', 'French']\n",
        "admission_date= ['2022-04-14 12:01', '2021-05-12 12:02', '2020-01-02 12:03', '2022-12-11 12:04', '2022-11-11 12:05', '2022-02-11 12:06', '2022-10-19 12:07', '2022-06-21 12:08', '2022-08-01 12:09', '2022-08-07 12:10']\n",
        "gender= ['Female', 'Male', 'Male', 'Female', 'Male', 'Female', 'Female', 'Female', 'Male', 'Male']\n",
        "\n",
        "\n",
        "df2 = pd.DataFrame([name, age, department, admission_date, gender])"
      ],
      "metadata": {
        "id": "1mdRG0GVCubT"
      },
      "execution_count": 30,
      "outputs": []
    },
    {
      "cell_type": "markdown",
      "source": [
        "## Work on the first dataframe(df) from here on"
      ],
      "metadata": {
        "id": "2mGijy6M_qdQ"
      }
    },
    {
      "cell_type": "markdown",
      "source": [
        "### Convert df admission_date column to datetime\n",
        "\n",
        "\n",
        " first import datetime as dt\n",
        "\n",
        "\n",
        "\n",
        "Extract the year, month and day as separate columns within the dataset"
      ],
      "metadata": {
        "id": "MrAgX-UM_HXT"
      }
    },
    {
      "cell_type": "code",
      "source": [
        "df.dtypes\n"
      ],
      "metadata": {
        "colab": {
          "base_uri": "https://localhost:8080/"
        },
        "id": "eqT-bdD_Uj5A",
        "outputId": "1ab47746-b6ef-4a62-a53c-39133807d197"
      },
      "execution_count": 16,
      "outputs": [
        {
          "output_type": "execute_result",
          "data": {
            "text/plain": [
              "name               object\n",
              "age                 int64\n",
              "department         object\n",
              "cgpa              float64\n",
              "admission_date     object\n",
              "gender             object\n",
              "dtype: object"
            ]
          },
          "metadata": {},
          "execution_count": 16
        }
      ]
    },
    {
      "cell_type": "code",
      "source": [
        "import datetime as dt\n",
        "df['admission_date'] = pd.to_datetime(df['admission_date'])  # convert the date to datetime object\n",
        "df['year'] = df['admission_date'].dt.year\n",
        "df['month'] = df['admission_date'].dt.month\n",
        "df['day'] = df['admission_date'].dt.day\n",
        "# Complete the code and do the same for month and day"
      ],
      "metadata": {
        "id": "iv23O91TC5jc"
      },
      "execution_count": 22,
      "outputs": []
    },
    {
      "cell_type": "code",
      "source": [
        "# Check for data types of all columns\n",
        "# Check for missing values\n",
        "# Check for percentage of  missing values\n",
        "df.dtypes\n",
        "df.isnull()\n",
        "percent_missing= df. isnull(). sum() * 100 / len(df)\n",
        "print(percent_missing)"
      ],
      "metadata": {
        "id": "r-yzmTL9Drp8",
        "colab": {
          "base_uri": "https://localhost:8080/"
        },
        "outputId": "67575263-dec7-4ac4-a8a3-e7f8af8d3622"
      },
      "execution_count": 26,
      "outputs": [
        {
          "output_type": "stream",
          "name": "stdout",
          "text": [
            "name              0.0\n",
            "age               0.0\n",
            "department        0.0\n",
            "cgpa              0.0\n",
            "admission_date    0.0\n",
            "gender            0.0\n",
            "year              0.0\n",
            "month             0.0\n",
            "day               0.0\n",
            "dtype: float64\n"
          ]
        }
      ]
    },
    {
      "cell_type": "code",
      "source": [
        "percent_missing"
      ],
      "metadata": {
        "colab": {
          "base_uri": "https://localhost:8080/"
        },
        "id": "u3J-7t4ZW9CU",
        "outputId": "fdc402b0-41c7-4b06-b8b8-24bcf246700b"
      },
      "execution_count": 27,
      "outputs": [
        {
          "output_type": "execute_result",
          "data": {
            "text/plain": [
              "name              0.0\n",
              "age               0.0\n",
              "department        0.0\n",
              "cgpa              0.0\n",
              "admission_date    0.0\n",
              "gender            0.0\n",
              "year              0.0\n",
              "month             0.0\n",
              "day               0.0\n",
              "dtype: float64"
            ]
          },
          "metadata": {},
          "execution_count": 27
        }
      ]
    },
    {
      "cell_type": "code",
      "source": [
        "# Check unique values in each of the columns\n",
        "# Check number of unique values in each of the columns\n",
        "# Check value counts for each of the columns\n",
        "\n",
        "df.nunique()\n"
      ],
      "metadata": {
        "id": "hn99VRNn_16o",
        "colab": {
          "base_uri": "https://localhost:8080/"
        },
        "outputId": "01716829-806d-46d3-94fd-8f219ef43b80"
      },
      "execution_count": 33,
      "outputs": [
        {
          "output_type": "execute_result",
          "data": {
            "text/plain": [
              "name              10\n",
              "age               10\n",
              "department         7\n",
              "cgpa              10\n",
              "admission_date    10\n",
              "gender             2\n",
              "year               3\n",
              "month              9\n",
              "day                8\n",
              "dtype: int64"
            ]
          },
          "metadata": {},
          "execution_count": 33
        }
      ]
    },
    {
      "cell_type": "code",
      "source": [
        "df.info()\n",
        "df.describe()\n"
      ],
      "metadata": {
        "id": "gJozSZyOAE4I",
        "colab": {
          "base_uri": "https://localhost:8080/",
          "height": 578
        },
        "outputId": "4305b357-5ed1-45d1-9618-f3f10c66a2a3"
      },
      "execution_count": 34,
      "outputs": [
        {
          "output_type": "stream",
          "name": "stdout",
          "text": [
            "<class 'pandas.core.frame.DataFrame'>\n",
            "RangeIndex: 10 entries, 0 to 9\n",
            "Data columns (total 9 columns):\n",
            " #   Column          Non-Null Count  Dtype         \n",
            "---  ------          --------------  -----         \n",
            " 0   name            10 non-null     object        \n",
            " 1   age             10 non-null     int64         \n",
            " 2   department      10 non-null     object        \n",
            " 3   cgpa            10 non-null     float64       \n",
            " 4   admission_date  10 non-null     datetime64[ns]\n",
            " 5   gender          10 non-null     object        \n",
            " 6   year            10 non-null     int64         \n",
            " 7   month           10 non-null     int64         \n",
            " 8   day             10 non-null     int64         \n",
            "dtypes: datetime64[ns](1), float64(1), int64(4), object(3)\n",
            "memory usage: 848.0+ bytes\n"
          ]
        },
        {
          "output_type": "execute_result",
          "data": {
            "text/plain": [
              "             age       cgpa         year      month        day\n",
              "count  10.000000  10.000000    10.000000  10.000000  10.000000\n",
              "mean   24.000000   3.530000  2021.700000   6.700000  10.900000\n",
              "std     7.393691   1.070877     0.674949   3.743142   6.419588\n",
              "min    15.000000   1.800000  2020.000000   1.000000   1.000000\n",
              "25%    18.500000   2.925000  2022.000000   4.250000   8.000000\n",
              "50%    23.500000   3.700000  2022.000000   7.000000  11.000000\n",
              "75%    27.250000   4.375000  2022.000000   9.500000  13.500000\n",
              "max    40.000000   5.000000  2022.000000  12.000000  21.000000"
            ],
            "text/html": [
              "\n",
              "  <div id=\"df-c66a1218-75a5-4f41-8eba-dfd7a90fed1b\">\n",
              "    <div class=\"colab-df-container\">\n",
              "      <div>\n",
              "<style scoped>\n",
              "    .dataframe tbody tr th:only-of-type {\n",
              "        vertical-align: middle;\n",
              "    }\n",
              "\n",
              "    .dataframe tbody tr th {\n",
              "        vertical-align: top;\n",
              "    }\n",
              "\n",
              "    .dataframe thead th {\n",
              "        text-align: right;\n",
              "    }\n",
              "</style>\n",
              "<table border=\"1\" class=\"dataframe\">\n",
              "  <thead>\n",
              "    <tr style=\"text-align: right;\">\n",
              "      <th></th>\n",
              "      <th>age</th>\n",
              "      <th>cgpa</th>\n",
              "      <th>year</th>\n",
              "      <th>month</th>\n",
              "      <th>day</th>\n",
              "    </tr>\n",
              "  </thead>\n",
              "  <tbody>\n",
              "    <tr>\n",
              "      <th>count</th>\n",
              "      <td>10.000000</td>\n",
              "      <td>10.000000</td>\n",
              "      <td>10.000000</td>\n",
              "      <td>10.000000</td>\n",
              "      <td>10.000000</td>\n",
              "    </tr>\n",
              "    <tr>\n",
              "      <th>mean</th>\n",
              "      <td>24.000000</td>\n",
              "      <td>3.530000</td>\n",
              "      <td>2021.700000</td>\n",
              "      <td>6.700000</td>\n",
              "      <td>10.900000</td>\n",
              "    </tr>\n",
              "    <tr>\n",
              "      <th>std</th>\n",
              "      <td>7.393691</td>\n",
              "      <td>1.070877</td>\n",
              "      <td>0.674949</td>\n",
              "      <td>3.743142</td>\n",
              "      <td>6.419588</td>\n",
              "    </tr>\n",
              "    <tr>\n",
              "      <th>min</th>\n",
              "      <td>15.000000</td>\n",
              "      <td>1.800000</td>\n",
              "      <td>2020.000000</td>\n",
              "      <td>1.000000</td>\n",
              "      <td>1.000000</td>\n",
              "    </tr>\n",
              "    <tr>\n",
              "      <th>25%</th>\n",
              "      <td>18.500000</td>\n",
              "      <td>2.925000</td>\n",
              "      <td>2022.000000</td>\n",
              "      <td>4.250000</td>\n",
              "      <td>8.000000</td>\n",
              "    </tr>\n",
              "    <tr>\n",
              "      <th>50%</th>\n",
              "      <td>23.500000</td>\n",
              "      <td>3.700000</td>\n",
              "      <td>2022.000000</td>\n",
              "      <td>7.000000</td>\n",
              "      <td>11.000000</td>\n",
              "    </tr>\n",
              "    <tr>\n",
              "      <th>75%</th>\n",
              "      <td>27.250000</td>\n",
              "      <td>4.375000</td>\n",
              "      <td>2022.000000</td>\n",
              "      <td>9.500000</td>\n",
              "      <td>13.500000</td>\n",
              "    </tr>\n",
              "    <tr>\n",
              "      <th>max</th>\n",
              "      <td>40.000000</td>\n",
              "      <td>5.000000</td>\n",
              "      <td>2022.000000</td>\n",
              "      <td>12.000000</td>\n",
              "      <td>21.000000</td>\n",
              "    </tr>\n",
              "  </tbody>\n",
              "</table>\n",
              "</div>\n",
              "      <button class=\"colab-df-convert\" onclick=\"convertToInteractive('df-c66a1218-75a5-4f41-8eba-dfd7a90fed1b')\"\n",
              "              title=\"Convert this dataframe to an interactive table.\"\n",
              "              style=\"display:none;\">\n",
              "        \n",
              "  <svg xmlns=\"http://www.w3.org/2000/svg\" height=\"24px\"viewBox=\"0 0 24 24\"\n",
              "       width=\"24px\">\n",
              "    <path d=\"M0 0h24v24H0V0z\" fill=\"none\"/>\n",
              "    <path d=\"M18.56 5.44l.94 2.06.94-2.06 2.06-.94-2.06-.94-.94-2.06-.94 2.06-2.06.94zm-11 1L8.5 8.5l.94-2.06 2.06-.94-2.06-.94L8.5 2.5l-.94 2.06-2.06.94zm10 10l.94 2.06.94-2.06 2.06-.94-2.06-.94-.94-2.06-.94 2.06-2.06.94z\"/><path d=\"M17.41 7.96l-1.37-1.37c-.4-.4-.92-.59-1.43-.59-.52 0-1.04.2-1.43.59L10.3 9.45l-7.72 7.72c-.78.78-.78 2.05 0 2.83L4 21.41c.39.39.9.59 1.41.59.51 0 1.02-.2 1.41-.59l7.78-7.78 2.81-2.81c.8-.78.8-2.07 0-2.86zM5.41 20L4 18.59l7.72-7.72 1.47 1.35L5.41 20z\"/>\n",
              "  </svg>\n",
              "      </button>\n",
              "      \n",
              "  <style>\n",
              "    .colab-df-container {\n",
              "      display:flex;\n",
              "      flex-wrap:wrap;\n",
              "      gap: 12px;\n",
              "    }\n",
              "\n",
              "    .colab-df-convert {\n",
              "      background-color: #E8F0FE;\n",
              "      border: none;\n",
              "      border-radius: 50%;\n",
              "      cursor: pointer;\n",
              "      display: none;\n",
              "      fill: #1967D2;\n",
              "      height: 32px;\n",
              "      padding: 0 0 0 0;\n",
              "      width: 32px;\n",
              "    }\n",
              "\n",
              "    .colab-df-convert:hover {\n",
              "      background-color: #E2EBFA;\n",
              "      box-shadow: 0px 1px 2px rgba(60, 64, 67, 0.3), 0px 1px 3px 1px rgba(60, 64, 67, 0.15);\n",
              "      fill: #174EA6;\n",
              "    }\n",
              "\n",
              "    [theme=dark] .colab-df-convert {\n",
              "      background-color: #3B4455;\n",
              "      fill: #D2E3FC;\n",
              "    }\n",
              "\n",
              "    [theme=dark] .colab-df-convert:hover {\n",
              "      background-color: #434B5C;\n",
              "      box-shadow: 0px 1px 3px 1px rgba(0, 0, 0, 0.15);\n",
              "      filter: drop-shadow(0px 1px 2px rgba(0, 0, 0, 0.3));\n",
              "      fill: #FFFFFF;\n",
              "    }\n",
              "  </style>\n",
              "\n",
              "      <script>\n",
              "        const buttonEl =\n",
              "          document.querySelector('#df-c66a1218-75a5-4f41-8eba-dfd7a90fed1b button.colab-df-convert');\n",
              "        buttonEl.style.display =\n",
              "          google.colab.kernel.accessAllowed ? 'block' : 'none';\n",
              "\n",
              "        async function convertToInteractive(key) {\n",
              "          const element = document.querySelector('#df-c66a1218-75a5-4f41-8eba-dfd7a90fed1b');\n",
              "          const dataTable =\n",
              "            await google.colab.kernel.invokeFunction('convertToInteractive',\n",
              "                                                     [key], {});\n",
              "          if (!dataTable) return;\n",
              "\n",
              "          const docLinkHtml = 'Like what you see? Visit the ' +\n",
              "            '<a target=\"_blank\" href=https://colab.research.google.com/notebooks/data_table.ipynb>data table notebook</a>'\n",
              "            + ' to learn more about interactive tables.';\n",
              "          element.innerHTML = '';\n",
              "          dataTable['output_type'] = 'display_data';\n",
              "          await google.colab.output.renderOutput(dataTable, element);\n",
              "          const docLink = document.createElement('div');\n",
              "          docLink.innerHTML = docLinkHtml;\n",
              "          element.appendChild(docLink);\n",
              "        }\n",
              "      </script>\n",
              "    </div>\n",
              "  </div>\n",
              "  "
            ]
          },
          "metadata": {},
          "execution_count": 34
        }
      ]
    },
    {
      "cell_type": "code",
      "source": [
        ""
      ],
      "metadata": {
        "id": "VifhP1RJeJda"
      },
      "execution_count": null,
      "outputs": []
    },
    {
      "cell_type": "code",
      "source": [
        "# How many rows and columns do you have? show it with df.shape\n",
        "df.shape"
      ],
      "metadata": {
        "id": "8Nts3QA4D6qb",
        "colab": {
          "base_uri": "https://localhost:8080/"
        },
        "outputId": "366ff5c8-6783-49f1-8a4b-c85206e08ea0"
      },
      "execution_count": 38,
      "outputs": [
        {
          "output_type": "execute_result",
          "data": {
            "text/plain": [
              "(10, 9)"
            ]
          },
          "metadata": {},
          "execution_count": 38
        }
      ]
    },
    {
      "cell_type": "code",
      "source": [
        "# Subset the dataframe for male gender\n",
        "df.query(\"gender== 'Male'\") # complete the code"
      ],
      "metadata": {
        "id": "0QrErZ0BEB2H"
      },
      "execution_count": null,
      "outputs": []
    },
    {
      "cell_type": "code",
      "source": [
        "# Find the mean,max, min, sum CGPA"
      ],
      "metadata": {
        "id": "pshwvoc7EXU1"
      },
      "execution_count": null,
      "outputs": []
    },
    {
      "cell_type": "code",
      "source": [
        "df['cgpa'].mean() #.max(), .min(), .sum()"
      ],
      "metadata": {
        "id": "YXDDh1EPEbi-",
        "colab": {
          "base_uri": "https://localhost:8080/"
        },
        "outputId": "bebddd89-8d6b-41c3-a9e3-5034800d288b"
      },
      "execution_count": 40,
      "outputs": [
        {
          "output_type": "execute_result",
          "data": {
            "text/plain": [
              "3.53"
            ]
          },
          "metadata": {},
          "execution_count": 40
        }
      ]
    },
    {
      "cell_type": "code",
      "source": [
        "df['cgpa'].sum()"
      ],
      "metadata": {
        "colab": {
          "base_uri": "https://localhost:8080/"
        },
        "id": "AG4DRr4GfKhC",
        "outputId": "12c382d4-96d6-4ea7-9345-e329960a5b9f"
      },
      "execution_count": 41,
      "outputs": [
        {
          "output_type": "execute_result",
          "data": {
            "text/plain": [
              "35.3"
            ]
          },
          "metadata": {},
          "execution_count": 41
        }
      ]
    },
    {
      "cell_type": "code",
      "source": [
        "df['cgpa'].max()"
      ],
      "metadata": {
        "colab": {
          "base_uri": "https://localhost:8080/"
        },
        "id": "wcsquj74fKkD",
        "outputId": "f56e04a7-3a09-4009-a0cf-6aaad2c1fe50"
      },
      "execution_count": 42,
      "outputs": [
        {
          "output_type": "execute_result",
          "data": {
            "text/plain": [
              "5.0"
            ]
          },
          "metadata": {},
          "execution_count": 42
        }
      ]
    },
    {
      "cell_type": "code",
      "source": [
        "df['cgpa'].min()"
      ],
      "metadata": {
        "colab": {
          "base_uri": "https://localhost:8080/"
        },
        "id": "nXYUr3cNfTwd",
        "outputId": "ec120db4-d3ed-43c2-e9a8-93339c8f44a5"
      },
      "execution_count": 43,
      "outputs": [
        {
          "output_type": "execute_result",
          "data": {
            "text/plain": [
              "1.8"
            ]
          },
          "metadata": {},
          "execution_count": 43
        }
      ]
    },
    {
      "cell_type": "code",
      "source": [
        "# Check your df to be sure that you have all the rows and columns\n",
        "df\n",
        "# write your data frame to a csv file\n",
        "df.to_csv(r'C:\\Users\\ADMIN\\Desktop\\Project1\\student_details.csv', index=False)\n",
        " # complete the code # remeber to set index parameter to False\n",
        "# Download the csv file\n"
      ],
      "metadata": {
        "id": "sEcyjUZSEo-7"
      },
      "execution_count": 50,
      "outputs": []
    },
    {
      "cell_type": "code",
      "source": [
        "pd.read_csv('student_details.csv')\n"
      ],
      "metadata": {
        "colab": {
          "base_uri": "https://localhost:8080/",
          "height": 363
        },
        "id": "gTG_xjhlgARd",
        "outputId": "3e2c9fa2-9fa8-4d22-f4bf-ecb689c82cfd"
      },
      "execution_count": 51,
      "outputs": [
        {
          "output_type": "execute_result",
          "data": {
            "text/plain": [
              "      name  age department  cgpa       admission_date  gender  year  month  \\\n",
              "0    Moyin   20     French   4.6  2022-04-14 12:01:00  Female  2022      4   \n",
              "1   Damola   23    English   4.5  2021-05-12 12:02:00    Male  2021      5   \n",
              "2  Micheal   24        Law   3.5  2020-01-02 12:03:00    Male  2020      1   \n",
              "3   Samuel   25        Law   3.0  2022-12-11 12:04:00  Female  2022     12   \n",
              "4   Anjola   28        Law   4.0  2022-11-11 12:05:00    Male  2022     11   \n",
              "5    Angel   30     German   5.0  2022-02-11 12:06:00  Female  2022      2   \n",
              "6   Kelvin   40    Zoology   2.1  2022-10-19 12:07:00  Female  2022     10   \n",
              "7   Praise   15     Botany   2.9  2022-06-21 12:08:00  Female  2022      6   \n",
              "8     Seun   17    Geology   3.9  2022-08-01 12:09:00    Male  2022      8   \n",
              "9      Ore   18     French   1.8  2022-08-07 12:10:00    Male  2022      8   \n",
              "\n",
              "   day  \n",
              "0   14  \n",
              "1   12  \n",
              "2    2  \n",
              "3   11  \n",
              "4   11  \n",
              "5   11  \n",
              "6   19  \n",
              "7   21  \n",
              "8    1  \n",
              "9    7  "
            ],
            "text/html": [
              "\n",
              "  <div id=\"df-2394e593-9e48-4dff-9d8c-94ac417f5e97\">\n",
              "    <div class=\"colab-df-container\">\n",
              "      <div>\n",
              "<style scoped>\n",
              "    .dataframe tbody tr th:only-of-type {\n",
              "        vertical-align: middle;\n",
              "    }\n",
              "\n",
              "    .dataframe tbody tr th {\n",
              "        vertical-align: top;\n",
              "    }\n",
              "\n",
              "    .dataframe thead th {\n",
              "        text-align: right;\n",
              "    }\n",
              "</style>\n",
              "<table border=\"1\" class=\"dataframe\">\n",
              "  <thead>\n",
              "    <tr style=\"text-align: right;\">\n",
              "      <th></th>\n",
              "      <th>name</th>\n",
              "      <th>age</th>\n",
              "      <th>department</th>\n",
              "      <th>cgpa</th>\n",
              "      <th>admission_date</th>\n",
              "      <th>gender</th>\n",
              "      <th>year</th>\n",
              "      <th>month</th>\n",
              "      <th>day</th>\n",
              "    </tr>\n",
              "  </thead>\n",
              "  <tbody>\n",
              "    <tr>\n",
              "      <th>0</th>\n",
              "      <td>Moyin</td>\n",
              "      <td>20</td>\n",
              "      <td>French</td>\n",
              "      <td>4.6</td>\n",
              "      <td>2022-04-14 12:01:00</td>\n",
              "      <td>Female</td>\n",
              "      <td>2022</td>\n",
              "      <td>4</td>\n",
              "      <td>14</td>\n",
              "    </tr>\n",
              "    <tr>\n",
              "      <th>1</th>\n",
              "      <td>Damola</td>\n",
              "      <td>23</td>\n",
              "      <td>English</td>\n",
              "      <td>4.5</td>\n",
              "      <td>2021-05-12 12:02:00</td>\n",
              "      <td>Male</td>\n",
              "      <td>2021</td>\n",
              "      <td>5</td>\n",
              "      <td>12</td>\n",
              "    </tr>\n",
              "    <tr>\n",
              "      <th>2</th>\n",
              "      <td>Micheal</td>\n",
              "      <td>24</td>\n",
              "      <td>Law</td>\n",
              "      <td>3.5</td>\n",
              "      <td>2020-01-02 12:03:00</td>\n",
              "      <td>Male</td>\n",
              "      <td>2020</td>\n",
              "      <td>1</td>\n",
              "      <td>2</td>\n",
              "    </tr>\n",
              "    <tr>\n",
              "      <th>3</th>\n",
              "      <td>Samuel</td>\n",
              "      <td>25</td>\n",
              "      <td>Law</td>\n",
              "      <td>3.0</td>\n",
              "      <td>2022-12-11 12:04:00</td>\n",
              "      <td>Female</td>\n",
              "      <td>2022</td>\n",
              "      <td>12</td>\n",
              "      <td>11</td>\n",
              "    </tr>\n",
              "    <tr>\n",
              "      <th>4</th>\n",
              "      <td>Anjola</td>\n",
              "      <td>28</td>\n",
              "      <td>Law</td>\n",
              "      <td>4.0</td>\n",
              "      <td>2022-11-11 12:05:00</td>\n",
              "      <td>Male</td>\n",
              "      <td>2022</td>\n",
              "      <td>11</td>\n",
              "      <td>11</td>\n",
              "    </tr>\n",
              "    <tr>\n",
              "      <th>5</th>\n",
              "      <td>Angel</td>\n",
              "      <td>30</td>\n",
              "      <td>German</td>\n",
              "      <td>5.0</td>\n",
              "      <td>2022-02-11 12:06:00</td>\n",
              "      <td>Female</td>\n",
              "      <td>2022</td>\n",
              "      <td>2</td>\n",
              "      <td>11</td>\n",
              "    </tr>\n",
              "    <tr>\n",
              "      <th>6</th>\n",
              "      <td>Kelvin</td>\n",
              "      <td>40</td>\n",
              "      <td>Zoology</td>\n",
              "      <td>2.1</td>\n",
              "      <td>2022-10-19 12:07:00</td>\n",
              "      <td>Female</td>\n",
              "      <td>2022</td>\n",
              "      <td>10</td>\n",
              "      <td>19</td>\n",
              "    </tr>\n",
              "    <tr>\n",
              "      <th>7</th>\n",
              "      <td>Praise</td>\n",
              "      <td>15</td>\n",
              "      <td>Botany</td>\n",
              "      <td>2.9</td>\n",
              "      <td>2022-06-21 12:08:00</td>\n",
              "      <td>Female</td>\n",
              "      <td>2022</td>\n",
              "      <td>6</td>\n",
              "      <td>21</td>\n",
              "    </tr>\n",
              "    <tr>\n",
              "      <th>8</th>\n",
              "      <td>Seun</td>\n",
              "      <td>17</td>\n",
              "      <td>Geology</td>\n",
              "      <td>3.9</td>\n",
              "      <td>2022-08-01 12:09:00</td>\n",
              "      <td>Male</td>\n",
              "      <td>2022</td>\n",
              "      <td>8</td>\n",
              "      <td>1</td>\n",
              "    </tr>\n",
              "    <tr>\n",
              "      <th>9</th>\n",
              "      <td>Ore</td>\n",
              "      <td>18</td>\n",
              "      <td>French</td>\n",
              "      <td>1.8</td>\n",
              "      <td>2022-08-07 12:10:00</td>\n",
              "      <td>Male</td>\n",
              "      <td>2022</td>\n",
              "      <td>8</td>\n",
              "      <td>7</td>\n",
              "    </tr>\n",
              "  </tbody>\n",
              "</table>\n",
              "</div>\n",
              "      <button class=\"colab-df-convert\" onclick=\"convertToInteractive('df-2394e593-9e48-4dff-9d8c-94ac417f5e97')\"\n",
              "              title=\"Convert this dataframe to an interactive table.\"\n",
              "              style=\"display:none;\">\n",
              "        \n",
              "  <svg xmlns=\"http://www.w3.org/2000/svg\" height=\"24px\"viewBox=\"0 0 24 24\"\n",
              "       width=\"24px\">\n",
              "    <path d=\"M0 0h24v24H0V0z\" fill=\"none\"/>\n",
              "    <path d=\"M18.56 5.44l.94 2.06.94-2.06 2.06-.94-2.06-.94-.94-2.06-.94 2.06-2.06.94zm-11 1L8.5 8.5l.94-2.06 2.06-.94-2.06-.94L8.5 2.5l-.94 2.06-2.06.94zm10 10l.94 2.06.94-2.06 2.06-.94-2.06-.94-.94-2.06-.94 2.06-2.06.94z\"/><path d=\"M17.41 7.96l-1.37-1.37c-.4-.4-.92-.59-1.43-.59-.52 0-1.04.2-1.43.59L10.3 9.45l-7.72 7.72c-.78.78-.78 2.05 0 2.83L4 21.41c.39.39.9.59 1.41.59.51 0 1.02-.2 1.41-.59l7.78-7.78 2.81-2.81c.8-.78.8-2.07 0-2.86zM5.41 20L4 18.59l7.72-7.72 1.47 1.35L5.41 20z\"/>\n",
              "  </svg>\n",
              "      </button>\n",
              "      \n",
              "  <style>\n",
              "    .colab-df-container {\n",
              "      display:flex;\n",
              "      flex-wrap:wrap;\n",
              "      gap: 12px;\n",
              "    }\n",
              "\n",
              "    .colab-df-convert {\n",
              "      background-color: #E8F0FE;\n",
              "      border: none;\n",
              "      border-radius: 50%;\n",
              "      cursor: pointer;\n",
              "      display: none;\n",
              "      fill: #1967D2;\n",
              "      height: 32px;\n",
              "      padding: 0 0 0 0;\n",
              "      width: 32px;\n",
              "    }\n",
              "\n",
              "    .colab-df-convert:hover {\n",
              "      background-color: #E2EBFA;\n",
              "      box-shadow: 0px 1px 2px rgba(60, 64, 67, 0.3), 0px 1px 3px 1px rgba(60, 64, 67, 0.15);\n",
              "      fill: #174EA6;\n",
              "    }\n",
              "\n",
              "    [theme=dark] .colab-df-convert {\n",
              "      background-color: #3B4455;\n",
              "      fill: #D2E3FC;\n",
              "    }\n",
              "\n",
              "    [theme=dark] .colab-df-convert:hover {\n",
              "      background-color: #434B5C;\n",
              "      box-shadow: 0px 1px 3px 1px rgba(0, 0, 0, 0.15);\n",
              "      filter: drop-shadow(0px 1px 2px rgba(0, 0, 0, 0.3));\n",
              "      fill: #FFFFFF;\n",
              "    }\n",
              "  </style>\n",
              "\n",
              "      <script>\n",
              "        const buttonEl =\n",
              "          document.querySelector('#df-2394e593-9e48-4dff-9d8c-94ac417f5e97 button.colab-df-convert');\n",
              "        buttonEl.style.display =\n",
              "          google.colab.kernel.accessAllowed ? 'block' : 'none';\n",
              "\n",
              "        async function convertToInteractive(key) {\n",
              "          const element = document.querySelector('#df-2394e593-9e48-4dff-9d8c-94ac417f5e97');\n",
              "          const dataTable =\n",
              "            await google.colab.kernel.invokeFunction('convertToInteractive',\n",
              "                                                     [key], {});\n",
              "          if (!dataTable) return;\n",
              "\n",
              "          const docLinkHtml = 'Like what you see? Visit the ' +\n",
              "            '<a target=\"_blank\" href=https://colab.research.google.com/notebooks/data_table.ipynb>data table notebook</a>'\n",
              "            + ' to learn more about interactive tables.';\n",
              "          element.innerHTML = '';\n",
              "          dataTable['output_type'] = 'display_data';\n",
              "          await google.colab.output.renderOutput(dataTable, element);\n",
              "          const docLink = document.createElement('div');\n",
              "          docLink.innerHTML = docLinkHtml;\n",
              "          element.appendChild(docLink);\n",
              "        }\n",
              "      </script>\n",
              "    </div>\n",
              "  </div>\n",
              "  "
            ]
          },
          "metadata": {},
          "execution_count": 51
        }
      ]
    },
    {
      "cell_type": "markdown",
      "source": [
        "### Submission\n",
        "Create a folder on your desktop and name it Project 1\n",
        "\n",
        "Move your notebook and the csv you downloaded to the folder\n",
        "\n",
        "Create a github account if you haven't\n",
        "\n",
        "Create a repository for the class and name it Python for Data Science (click on the + sign by the top right corner)\n",
        "\n",
        "Click upload an existing file \n",
        "\n",
        "Drag the Project 1 folder containing your code and the csv file into the Drag here field (Do not click on choose your files)\n",
        "\n",
        "Click on the repository name to go the repository home page\n",
        "\n",
        "Click on the address bar to copy the repository link\n",
        "\n",
        "Submit the link privately to me"
      ],
      "metadata": {
        "id": "lOJWZXDqE9B1"
      }
    },
    {
      "cell_type": "code",
      "source": [
        ""
      ],
      "metadata": {
        "id": "y8uUorTMHv2f"
      },
      "execution_count": null,
      "outputs": []
    }
  ]
}